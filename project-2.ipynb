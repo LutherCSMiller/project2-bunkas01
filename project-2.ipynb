{
 "cells": [
  {
   "cell_type": "code",
   "execution_count": 70,
   "metadata": {
    "collapsed": true
   },
   "outputs": [],
   "source": [
    "import pandas as pd\n",
    "import re\n",
    "import requests\n",
    "from altair import *\n",
    "from bs4 import BeautifulSoup\n",
    "import matplotlib.pyplot as plt\n",
    "%matplotlib inline"
   ]
  },
  {
   "cell_type": "markdown",
   "metadata": {},
   "source": [
    "Due to requests timing out for the pages repeatedly, I had to manually pull the html for the various recipes."
   ]
  },
  {
   "cell_type": "markdown",
   "metadata": {},
   "source": [
    "For the project, I'm taking the first ten filtered recipes returned on `allrecipes.com` when searching for \"Mac and Cheese\". Prior to selection of the first ten, they were filtered on the basis of serving size--only recipes for 6-8 servings were used."
   ]
  },
  {
   "cell_type": "code",
   "execution_count": 10,
   "metadata": {
    "collapsed": true
   },
   "outputs": [],
   "source": [
    "file_list = ['recipe_0.html', 'recipe_1.html', 'recipe_2.html', 'recipe_3.html', 'recipe_4.html', 'recipe_5.html',\n",
    "             'recipe_6.html', 'recipe_7.html', 'recipe_8.html', 'recipe_9.html']\n",
    "soup_list = []"
   ]
  },
  {
   "cell_type": "code",
   "execution_count": 12,
   "metadata": {
    "collapsed": false
   },
   "outputs": [],
   "source": [
    "for a_file in file_list:\n",
    "    soup = BeautifulSoup(open(a_file), \"lxml\")\n",
    "    soup_list.append(soup)"
   ]
  },
  {
   "cell_type": "code",
   "execution_count": 17,
   "metadata": {
    "collapsed": false
   },
   "outputs": [
    {
     "data": {
      "text/plain": [
       "'3 cups gemelli pasta, uncooked'"
      ]
     },
     "execution_count": 17,
     "metadata": {},
     "output_type": "execute_result"
    }
   ],
   "source": [
    "# Just a quick test\n",
    "soup_list[0].find('span', class_='recipe-ingred_txt added').text"
   ]
  },
  {
   "cell_type": "code",
   "execution_count": 19,
   "metadata": {
    "collapsed": false
   },
   "outputs": [
    {
     "data": {
      "text/plain": [
       "\"Ranch Mac 'n Cheese\""
      ]
     },
     "execution_count": 19,
     "metadata": {},
     "output_type": "execute_result"
    }
   ],
   "source": [
    "soup_list[0].find('h1', class_='recipe-summary__h1').text"
   ]
  },
  {
   "cell_type": "markdown",
   "metadata": {},
   "source": [
    "In order to normalize measurements, and effectively look at the differences between recipes, everything will be converted to imperial fluid ounces or weight ounces as appropriate. This will require matching common measurement words within recipes. Additionally, if there are no appropraite units of measure matched, it will be assumed to be a discrete number."
   ]
  },
  {
   "cell_type": "code",
   "execution_count": 45,
   "metadata": {
    "collapsed": true
   },
   "outputs": [],
   "source": [
    "measurements = {'cup': 8, 'ounce': 1, 'oz': 1, 'oz.': 1, 'pound': 16, 'pounds': 16, 'Cup': 8, 'Ounce': 1, 'Oz': 1,\n",
    "                'Oz.': 1, 'Pound': 16, 'Pounds': 16, 'tablespoon': .5, 'Tablespoon': .5, 'tablespoons': .5, 'ounces': 1,\n",
    "                'Tablespoons': .5, 'tbsp': .5, 'Tbsp': .5, 'TBSP': .5, 'teaspoon': .17, 'Teaspoon': .17, 'Ounces': 1,\n",
    "                'teaspoons': .17, 'Teaspoons': .17, 'tsp': .17, 'Tsp': .17, 'TSP': .17, 'cups': 8, 'Cups': 8}"
   ]
  },
  {
   "cell_type": "markdown",
   "metadata": {},
   "source": [
    "At this point, we're just doing a quick and dirty extraction of data, in order to get it into a dataframe and make things easier to deal with; to that effect, the name of the recipe will be pulled, and matche with ingredient text entries. This will get turned into a pivot table and cleaned up later."
   ]
  },
  {
   "cell_type": "code",
   "execution_count": 25,
   "metadata": {
    "collapsed": true
   },
   "outputs": [],
   "source": [
    "data = {'recipe_name': [], 'raw_text': []}\n",
    "for soup in soup_list:\n",
    "    rec_name = soup.find('h1', class_='recipe-summary__h1').text\n",
    "    text_list = soup.find_all('span', class_='recipe-ingred_txt added')\n",
    "    for item in text_list:\n",
    "        data['recipe_name'].append(rec_name)\n",
    "        data['raw_text'].append(re.sub('\\(.*\\)', '', item.text))\n",
    "df = pd.DataFrame(data)"
   ]
  },
  {
   "cell_type": "code",
   "execution_count": 27,
   "metadata": {
    "collapsed": false
   },
   "outputs": [
    {
     "data": {
      "text/html": [
       "<div>\n",
       "<table border=\"1\" class=\"dataframe\">\n",
       "  <thead>\n",
       "    <tr style=\"text-align: right;\">\n",
       "      <th></th>\n",
       "      <th>raw_text</th>\n",
       "      <th>recipe_name</th>\n",
       "    </tr>\n",
       "  </thead>\n",
       "  <tbody>\n",
       "    <tr>\n",
       "      <th>0</th>\n",
       "      <td>3 cups gemelli pasta, uncooked</td>\n",
       "      <td>Ranch Mac 'n Cheese</td>\n",
       "    </tr>\n",
       "    <tr>\n",
       "      <th>1</th>\n",
       "      <td>1  can evaporated milk</td>\n",
       "      <td>Ranch Mac 'n Cheese</td>\n",
       "    </tr>\n",
       "    <tr>\n",
       "      <th>2</th>\n",
       "      <td>1 cup Hidden Valley® Original Ranch® Salad Dre...</td>\n",
       "      <td>Ranch Mac 'n Cheese</td>\n",
       "    </tr>\n",
       "    <tr>\n",
       "      <th>3</th>\n",
       "      <td>2 eggs, slightly beaten</td>\n",
       "      <td>Ranch Mac 'n Cheese</td>\n",
       "    </tr>\n",
       "    <tr>\n",
       "      <th>4</th>\n",
       "      <td>3 cups grated Asiago cheese</td>\n",
       "      <td>Ranch Mac 'n Cheese</td>\n",
       "    </tr>\n",
       "  </tbody>\n",
       "</table>\n",
       "</div>"
      ],
      "text/plain": [
       "                                            raw_text          recipe_name\n",
       "0                     3 cups gemelli pasta, uncooked  Ranch Mac 'n Cheese\n",
       "1                             1  can evaporated milk  Ranch Mac 'n Cheese\n",
       "2  1 cup Hidden Valley® Original Ranch® Salad Dre...  Ranch Mac 'n Cheese\n",
       "3                            2 eggs, slightly beaten  Ranch Mac 'n Cheese\n",
       "4                        3 cups grated Asiago cheese  Ranch Mac 'n Cheese"
      ]
     },
     "execution_count": 27,
     "metadata": {},
     "output_type": "execute_result"
    }
   ],
   "source": [
    "df.head()"
   ]
  },
  {
   "cell_type": "markdown",
   "metadata": {},
   "source": [
    "These functions serve to extract the actually useful information from the ingredient text, as well as normalize the amount of the ingredient that's listed."
   ]
  },
  {
   "cell_type": "code",
   "execution_count": 46,
   "metadata": {
    "collapsed": true
   },
   "outputs": [],
   "source": [
    "def extract_amount(row):\n",
    "    def ex_am(text):\n",
    "        words = text.split()\n",
    "        if re.match('[1234567890]+', words[0]):\n",
    "            val = eval(words[0])\n",
    "        else:\n",
    "            val = 0\n",
    "        if words[1] in measurements:\n",
    "            val *= measurements[words[1]]\n",
    "        return val\n",
    "    return ex_am(row.raw_text)"
   ]
  },
  {
   "cell_type": "code",
   "execution_count": 47,
   "metadata": {
    "collapsed": true
   },
   "outputs": [],
   "source": [
    "def extract_ing(row):\n",
    "    def ex_ing(text):\n",
    "        words = text.split()\n",
    "        if not re.match('[1234567890]+', words[0]):\n",
    "            return text\n",
    "        elif words[1] in measurements:\n",
    "            return \" \".join(words[2:])\n",
    "        else:\n",
    "            return \" \".join(words[1:])\n",
    "    return ex_ing(row.raw_text)"
   ]
  },
  {
   "cell_type": "code",
   "execution_count": 48,
   "metadata": {
    "collapsed": true
   },
   "outputs": [],
   "source": [
    "df['ingredient'] = df.apply(extract_ing, axis=1)"
   ]
  },
  {
   "cell_type": "code",
   "execution_count": 49,
   "metadata": {
    "collapsed": false
   },
   "outputs": [],
   "source": [
    "df['amount'] = df.apply(extract_amount, axis=1)"
   ]
  },
  {
   "cell_type": "code",
   "execution_count": 56,
   "metadata": {
    "collapsed": false
   },
   "outputs": [
    {
     "data": {
      "text/html": [
       "<div>\n",
       "<table border=\"1\" class=\"dataframe\">\n",
       "  <thead>\n",
       "    <tr style=\"text-align: right;\">\n",
       "      <th></th>\n",
       "      <th>raw_text</th>\n",
       "      <th>recipe_name</th>\n",
       "      <th>ingredient</th>\n",
       "      <th>amount</th>\n",
       "    </tr>\n",
       "  </thead>\n",
       "  <tbody>\n",
       "    <tr>\n",
       "      <th>0</th>\n",
       "      <td>3 cups gemelli pasta, uncooked</td>\n",
       "      <td>Ranch Mac 'n Cheese</td>\n",
       "      <td>gemelli pasta, uncooked</td>\n",
       "      <td>24.0</td>\n",
       "    </tr>\n",
       "    <tr>\n",
       "      <th>1</th>\n",
       "      <td>1  can evaporated milk</td>\n",
       "      <td>Ranch Mac 'n Cheese</td>\n",
       "      <td>can evaporated milk</td>\n",
       "      <td>1.0</td>\n",
       "    </tr>\n",
       "    <tr>\n",
       "      <th>2</th>\n",
       "      <td>1 cup Hidden Valley® Original Ranch® Salad Dre...</td>\n",
       "      <td>Ranch Mac 'n Cheese</td>\n",
       "      <td>Hidden Valley® Original Ranch® Salad Dressing</td>\n",
       "      <td>8.0</td>\n",
       "    </tr>\n",
       "    <tr>\n",
       "      <th>3</th>\n",
       "      <td>2 eggs, slightly beaten</td>\n",
       "      <td>Ranch Mac 'n Cheese</td>\n",
       "      <td>eggs, slightly beaten</td>\n",
       "      <td>2.0</td>\n",
       "    </tr>\n",
       "    <tr>\n",
       "      <th>4</th>\n",
       "      <td>3 cups grated Asiago cheese</td>\n",
       "      <td>Ranch Mac 'n Cheese</td>\n",
       "      <td>grated Asiago cheese</td>\n",
       "      <td>24.0</td>\n",
       "    </tr>\n",
       "  </tbody>\n",
       "</table>\n",
       "</div>"
      ],
      "text/plain": [
       "                                            raw_text          recipe_name  \\\n",
       "0                     3 cups gemelli pasta, uncooked  Ranch Mac 'n Cheese   \n",
       "1                             1  can evaporated milk  Ranch Mac 'n Cheese   \n",
       "2  1 cup Hidden Valley® Original Ranch® Salad Dre...  Ranch Mac 'n Cheese   \n",
       "3                            2 eggs, slightly beaten  Ranch Mac 'n Cheese   \n",
       "4                        3 cups grated Asiago cheese  Ranch Mac 'n Cheese   \n",
       "\n",
       "                                      ingredient  amount  \n",
       "0                        gemelli pasta, uncooked    24.0  \n",
       "1                            can evaporated milk     1.0  \n",
       "2  Hidden Valley® Original Ranch® Salad Dressing     8.0  \n",
       "3                          eggs, slightly beaten     2.0  \n",
       "4                           grated Asiago cheese    24.0  "
      ]
     },
     "execution_count": 56,
     "metadata": {},
     "output_type": "execute_result"
    }
   ],
   "source": [
    "df.head()"
   ]
  },
  {
   "cell_type": "code",
   "execution_count": 53,
   "metadata": {
    "collapsed": false
   },
   "outputs": [],
   "source": [
    "recipe_details = pd.pivot_table(df, values='amount', index='recipe_name', columns='ingredient')"
   ]
  },
  {
   "cell_type": "code",
   "execution_count": 57,
   "metadata": {
    "collapsed": false
   },
   "outputs": [],
   "source": [
    "recipe_details = recipe_details.fillna(0)"
   ]
  },
  {
   "cell_type": "code",
   "execution_count": 60,
   "metadata": {
    "collapsed": false
   },
   "outputs": [
    {
     "data": {
      "text/html": [
       "<div>\n",
       "<table border=\"1\" class=\"dataframe\">\n",
       "  <thead>\n",
       "    <tr style=\"text-align: right;\">\n",
       "      <th>ingredient</th>\n",
       "      <th>1/2 cups sauerkraut, drained</th>\n",
       "      <th>Hidden Valley® Original Ranch® Salad Dressing</th>\n",
       "      <th>all-purpose flour</th>\n",
       "      <th>blue cheese crumbles</th>\n",
       "      <th>butter</th>\n",
       "      <th>butter, melted</th>\n",
       "      <th>can Campbell's® Condensed Creamy Poblano &amp; Queso Soup</th>\n",
       "      <th>can condensed Cheddar cheese soup</th>\n",
       "      <th>can evaporated milk</th>\n",
       "      <th>chicken stock</th>\n",
       "      <th>...</th>\n",
       "      <th>skim milk</th>\n",
       "      <th>sleeve buttery round crackers , crushed</th>\n",
       "      <th>slices bread, crusts removed and cubed</th>\n",
       "      <th>slices rye bread, torn</th>\n",
       "      <th>small onion, diced</th>\n",
       "      <th>spicy brown mustard</th>\n",
       "      <th>uncooked elbow macaroni</th>\n",
       "      <th>unsalted butter</th>\n",
       "      <th>unseasoned bread crumbs</th>\n",
       "      <th>water</th>\n",
       "    </tr>\n",
       "    <tr>\n",
       "      <th>recipe_name</th>\n",
       "      <th></th>\n",
       "      <th></th>\n",
       "      <th></th>\n",
       "      <th></th>\n",
       "      <th></th>\n",
       "      <th></th>\n",
       "      <th></th>\n",
       "      <th></th>\n",
       "      <th></th>\n",
       "      <th></th>\n",
       "      <th></th>\n",
       "      <th></th>\n",
       "      <th></th>\n",
       "      <th></th>\n",
       "      <th></th>\n",
       "      <th></th>\n",
       "      <th></th>\n",
       "      <th></th>\n",
       "      <th></th>\n",
       "      <th></th>\n",
       "      <th></th>\n",
       "    </tr>\n",
       "  </thead>\n",
       "  <tbody>\n",
       "    <tr>\n",
       "      <th>Buffalo Chicken Mac and Cheese</th>\n",
       "      <td>0.0</td>\n",
       "      <td>0.0</td>\n",
       "      <td>3.0</td>\n",
       "      <td>0.0</td>\n",
       "      <td>3.0</td>\n",
       "      <td>0.0</td>\n",
       "      <td>0.0</td>\n",
       "      <td>0.0</td>\n",
       "      <td>0.0</td>\n",
       "      <td>0.0</td>\n",
       "      <td>...</td>\n",
       "      <td>0.0</td>\n",
       "      <td>0.0</td>\n",
       "      <td>0.0</td>\n",
       "      <td>0.0</td>\n",
       "      <td>0.0</td>\n",
       "      <td>0.0</td>\n",
       "      <td>0.0</td>\n",
       "      <td>0.0</td>\n",
       "      <td>0.0</td>\n",
       "      <td>0.0</td>\n",
       "    </tr>\n",
       "    <tr>\n",
       "      <th>Creamy Poblano Mac &amp; Cheese</th>\n",
       "      <td>0.0</td>\n",
       "      <td>0.0</td>\n",
       "      <td>0.0</td>\n",
       "      <td>0.0</td>\n",
       "      <td>0.5</td>\n",
       "      <td>0.0</td>\n",
       "      <td>1.0</td>\n",
       "      <td>0.0</td>\n",
       "      <td>0.0</td>\n",
       "      <td>0.0</td>\n",
       "      <td>...</td>\n",
       "      <td>0.0</td>\n",
       "      <td>0.0</td>\n",
       "      <td>0.0</td>\n",
       "      <td>0.0</td>\n",
       "      <td>0.0</td>\n",
       "      <td>0.0</td>\n",
       "      <td>0.0</td>\n",
       "      <td>0.0</td>\n",
       "      <td>0.0</td>\n",
       "      <td>0.0</td>\n",
       "    </tr>\n",
       "    <tr>\n",
       "      <th>Green Mac and Cheese</th>\n",
       "      <td>0.0</td>\n",
       "      <td>0.0</td>\n",
       "      <td>0.0</td>\n",
       "      <td>0.0</td>\n",
       "      <td>2.0</td>\n",
       "      <td>0.0</td>\n",
       "      <td>0.0</td>\n",
       "      <td>0.0</td>\n",
       "      <td>0.0</td>\n",
       "      <td>0.0</td>\n",
       "      <td>...</td>\n",
       "      <td>0.0</td>\n",
       "      <td>0.5</td>\n",
       "      <td>0.0</td>\n",
       "      <td>0.0</td>\n",
       "      <td>0.0</td>\n",
       "      <td>0.0</td>\n",
       "      <td>0.0</td>\n",
       "      <td>0.0</td>\n",
       "      <td>0.0</td>\n",
       "      <td>0.0</td>\n",
       "    </tr>\n",
       "    <tr>\n",
       "      <th>Mac and Cheese Henwood Style</th>\n",
       "      <td>0.0</td>\n",
       "      <td>0.0</td>\n",
       "      <td>2.0</td>\n",
       "      <td>2.0</td>\n",
       "      <td>0.0</td>\n",
       "      <td>0.0</td>\n",
       "      <td>0.0</td>\n",
       "      <td>0.0</td>\n",
       "      <td>0.0</td>\n",
       "      <td>0.0</td>\n",
       "      <td>...</td>\n",
       "      <td>0.0</td>\n",
       "      <td>0.0</td>\n",
       "      <td>0.0</td>\n",
       "      <td>0.0</td>\n",
       "      <td>0.0</td>\n",
       "      <td>0.0</td>\n",
       "      <td>0.0</td>\n",
       "      <td>0.0</td>\n",
       "      <td>0.0</td>\n",
       "      <td>0.0</td>\n",
       "    </tr>\n",
       "    <tr>\n",
       "      <th>Mom's Favorite Baked Mac and Cheese</th>\n",
       "      <td>0.0</td>\n",
       "      <td>0.0</td>\n",
       "      <td>1.0</td>\n",
       "      <td>0.0</td>\n",
       "      <td>1.0</td>\n",
       "      <td>0.0</td>\n",
       "      <td>0.0</td>\n",
       "      <td>0.0</td>\n",
       "      <td>0.0</td>\n",
       "      <td>0.0</td>\n",
       "      <td>...</td>\n",
       "      <td>0.0</td>\n",
       "      <td>0.0</td>\n",
       "      <td>0.0</td>\n",
       "      <td>0.0</td>\n",
       "      <td>0.0</td>\n",
       "      <td>0.0</td>\n",
       "      <td>0.0</td>\n",
       "      <td>0.0</td>\n",
       "      <td>0.0</td>\n",
       "      <td>0.0</td>\n",
       "    </tr>\n",
       "  </tbody>\n",
       "</table>\n",
       "<p>5 rows × 76 columns</p>\n",
       "</div>"
      ],
      "text/plain": [
       "ingredient                           1/2 cups sauerkraut, drained  \\\n",
       "recipe_name                                                         \n",
       "Buffalo Chicken Mac and Cheese                                0.0   \n",
       "Creamy Poblano Mac & Cheese                                   0.0   \n",
       "Green Mac and Cheese                                          0.0   \n",
       "Mac and Cheese Henwood Style                                  0.0   \n",
       "Mom's Favorite Baked Mac and Cheese                           0.0   \n",
       "\n",
       "ingredient                           Hidden Valley® Original Ranch® Salad Dressing  \\\n",
       "recipe_name                                                                          \n",
       "Buffalo Chicken Mac and Cheese                                                 0.0   \n",
       "Creamy Poblano Mac & Cheese                                                    0.0   \n",
       "Green Mac and Cheese                                                           0.0   \n",
       "Mac and Cheese Henwood Style                                                   0.0   \n",
       "Mom's Favorite Baked Mac and Cheese                                            0.0   \n",
       "\n",
       "ingredient                           all-purpose flour  blue cheese crumbles  \\\n",
       "recipe_name                                                                    \n",
       "Buffalo Chicken Mac and Cheese                     3.0                   0.0   \n",
       "Creamy Poblano Mac & Cheese                        0.0                   0.0   \n",
       "Green Mac and Cheese                               0.0                   0.0   \n",
       "Mac and Cheese Henwood Style                       2.0                   2.0   \n",
       "Mom's Favorite Baked Mac and Cheese                1.0                   0.0   \n",
       "\n",
       "ingredient                           butter  butter, melted  \\\n",
       "recipe_name                                                   \n",
       "Buffalo Chicken Mac and Cheese          3.0             0.0   \n",
       "Creamy Poblano Mac & Cheese             0.5             0.0   \n",
       "Green Mac and Cheese                    2.0             0.0   \n",
       "Mac and Cheese Henwood Style            0.0             0.0   \n",
       "Mom's Favorite Baked Mac and Cheese     1.0             0.0   \n",
       "\n",
       "ingredient                           can Campbell's® Condensed Creamy Poblano & Queso Soup  \\\n",
       "recipe_name                                                                                  \n",
       "Buffalo Chicken Mac and Cheese                                                     0.0       \n",
       "Creamy Poblano Mac & Cheese                                                        1.0       \n",
       "Green Mac and Cheese                                                               0.0       \n",
       "Mac and Cheese Henwood Style                                                       0.0       \n",
       "Mom's Favorite Baked Mac and Cheese                                                0.0       \n",
       "\n",
       "ingredient                           can condensed Cheddar cheese soup  \\\n",
       "recipe_name                                                              \n",
       "Buffalo Chicken Mac and Cheese                                     0.0   \n",
       "Creamy Poblano Mac & Cheese                                        0.0   \n",
       "Green Mac and Cheese                                               0.0   \n",
       "Mac and Cheese Henwood Style                                       0.0   \n",
       "Mom's Favorite Baked Mac and Cheese                                0.0   \n",
       "\n",
       "ingredient                           can evaporated milk  chicken stock  \\\n",
       "recipe_name                                                               \n",
       "Buffalo Chicken Mac and Cheese                       0.0            0.0   \n",
       "Creamy Poblano Mac & Cheese                          0.0            0.0   \n",
       "Green Mac and Cheese                                 0.0            0.0   \n",
       "Mac and Cheese Henwood Style                         0.0            0.0   \n",
       "Mom's Favorite Baked Mac and Cheese                  0.0            0.0   \n",
       "\n",
       "ingredient                           ...    skim milk  \\\n",
       "recipe_name                          ...                \n",
       "Buffalo Chicken Mac and Cheese       ...          0.0   \n",
       "Creamy Poblano Mac & Cheese          ...          0.0   \n",
       "Green Mac and Cheese                 ...          0.0   \n",
       "Mac and Cheese Henwood Style         ...          0.0   \n",
       "Mom's Favorite Baked Mac and Cheese  ...          0.0   \n",
       "\n",
       "ingredient                           sleeve buttery round crackers , crushed  \\\n",
       "recipe_name                                                                    \n",
       "Buffalo Chicken Mac and Cheese                                           0.0   \n",
       "Creamy Poblano Mac & Cheese                                              0.0   \n",
       "Green Mac and Cheese                                                     0.5   \n",
       "Mac and Cheese Henwood Style                                             0.0   \n",
       "Mom's Favorite Baked Mac and Cheese                                      0.0   \n",
       "\n",
       "ingredient                           slices bread, crusts removed and cubed  \\\n",
       "recipe_name                                                                   \n",
       "Buffalo Chicken Mac and Cheese                                          0.0   \n",
       "Creamy Poblano Mac & Cheese                                             0.0   \n",
       "Green Mac and Cheese                                                    0.0   \n",
       "Mac and Cheese Henwood Style                                            0.0   \n",
       "Mom's Favorite Baked Mac and Cheese                                     0.0   \n",
       "\n",
       "ingredient                           slices rye bread, torn  \\\n",
       "recipe_name                                                   \n",
       "Buffalo Chicken Mac and Cheese                          0.0   \n",
       "Creamy Poblano Mac & Cheese                             0.0   \n",
       "Green Mac and Cheese                                    0.0   \n",
       "Mac and Cheese Henwood Style                            0.0   \n",
       "Mom's Favorite Baked Mac and Cheese                     0.0   \n",
       "\n",
       "ingredient                           small onion, diced  spicy brown mustard  \\\n",
       "recipe_name                                                                    \n",
       "Buffalo Chicken Mac and Cheese                      0.0                  0.0   \n",
       "Creamy Poblano Mac & Cheese                         0.0                  0.0   \n",
       "Green Mac and Cheese                                0.0                  0.0   \n",
       "Mac and Cheese Henwood Style                        0.0                  0.0   \n",
       "Mom's Favorite Baked Mac and Cheese                 0.0                  0.0   \n",
       "\n",
       "ingredient                           uncooked elbow macaroni  unsalted butter  \\\n",
       "recipe_name                                                                     \n",
       "Buffalo Chicken Mac and Cheese                           0.0              0.0   \n",
       "Creamy Poblano Mac & Cheese                              0.0              0.0   \n",
       "Green Mac and Cheese                                     0.0              0.0   \n",
       "Mac and Cheese Henwood Style                             0.0              0.0   \n",
       "Mom's Favorite Baked Mac and Cheese                      0.0              0.0   \n",
       "\n",
       "ingredient                           unseasoned bread crumbs  water  \n",
       "recipe_name                                                          \n",
       "Buffalo Chicken Mac and Cheese                           0.0    0.0  \n",
       "Creamy Poblano Mac & Cheese                              0.0    0.0  \n",
       "Green Mac and Cheese                                     0.0    0.0  \n",
       "Mac and Cheese Henwood Style                             0.0    0.0  \n",
       "Mom's Favorite Baked Mac and Cheese                      0.0    0.0  \n",
       "\n",
       "[5 rows x 76 columns]"
      ]
     },
     "execution_count": 60,
     "metadata": {},
     "output_type": "execute_result"
    }
   ],
   "source": [
    "recipe_details.head()"
   ]
  },
  {
   "cell_type": "code",
   "execution_count": 72,
   "metadata": {
    "collapsed": false
   },
   "outputs": [
    {
     "data": {
      "text/html": [
       "<div class=\"vega-embed\" id=\"c9acc9d7-06a0-4c94-9bcb-741fa3bf32e2\"></div>\n",
       "\n",
       "<style>\n",
       ".vega-embed svg, .vega-embed canvas {\n",
       "  border: 1px dotted gray;\n",
       "}\n",
       "\n",
       ".vega-embed .vega-actions a {\n",
       "  margin-right: 6px;\n",
       "}\n",
       "</style>\n"
      ]
     },
     "metadata": {
      "jupyter-vega": "#c9acc9d7-06a0-4c94-9bcb-741fa3bf32e2"
     },
     "output_type": "display_data"
    },
    {
     "data": {
      "application/javascript": [
       "var spec = {\"mark\": \"bar\", \"data\": {\"values\": [{\"raw_text\": \"3 cups gemelli pasta, uncooked\", \"ingredient\": \"gemelli pasta, uncooked\", \"amount\": 24.0, \"recipe_name\": \"Ranch Mac 'n Cheese\"}, {\"raw_text\": \"1  can evaporated milk\", \"ingredient\": \"can evaporated milk\", \"amount\": 1.0, \"recipe_name\": \"Ranch Mac 'n Cheese\"}, {\"raw_text\": \"1 cup Hidden Valley\\u00ae Original Ranch\\u00ae Salad Dressing\", \"ingredient\": \"Hidden Valley\\u00ae Original Ranch\\u00ae Salad Dressing\", \"amount\": 8.0, \"recipe_name\": \"Ranch Mac 'n Cheese\"}, {\"raw_text\": \"2 eggs, slightly beaten\", \"ingredient\": \"eggs, slightly beaten\", \"amount\": 2.0, \"recipe_name\": \"Ranch Mac 'n Cheese\"}, {\"raw_text\": \"3 cups grated Asiago cheese\", \"ingredient\": \"grated Asiago cheese\", \"amount\": 24.0, \"recipe_name\": \"Ranch Mac 'n Cheese\"}, {\"raw_text\": \"1/2 cup unseasoned bread crumbs\", \"ingredient\": \"unseasoned bread crumbs\", \"amount\": 4.0, \"recipe_name\": \"Ranch Mac 'n Cheese\"}, {\"raw_text\": \"2 tablespoons unsalted butter\", \"ingredient\": \"unsalted butter\", \"amount\": 1.0, \"recipe_name\": \"Ranch Mac 'n Cheese\"}, {\"raw_text\": \"2 large Anaheim chile peppers, stems removed\", \"ingredient\": \"large Anaheim chile peppers, stems removed\", \"amount\": 2.0, \"recipe_name\": \"Green Mac and Cheese\"}, {\"raw_text\": \"2 tablespoons extra-virgin olive oil \", \"ingredient\": \"extra-virgin olive oil\", \"amount\": 1.0, \"recipe_name\": \"Green Mac and Cheese\"}, {\"raw_text\": \"1 cup heavy whipping cream\", \"ingredient\": \"heavy whipping cream\", \"amount\": 8.0, \"recipe_name\": \"Green Mac and Cheese\"}, {\"raw_text\": \"1/4 cup butter\", \"ingredient\": \"butter\", \"amount\": 2.0, \"recipe_name\": \"Green Mac and Cheese\"}, {\"raw_text\": \"1  package shredded pepper Jack cheese\", \"ingredient\": \"package shredded pepper Jack cheese\", \"amount\": 1.0, \"recipe_name\": \"Green Mac and Cheese\"}, {\"raw_text\": \"1  package grated Parmesan cheese\", \"ingredient\": \"package grated Parmesan cheese\", \"amount\": 1.0, \"recipe_name\": \"Green Mac and Cheese\"}, {\"raw_text\": \"3/4 cup shredded mozzarella cheese\", \"ingredient\": \"shredded mozzarella cheese\", \"amount\": 6.0, \"recipe_name\": \"Green Mac and Cheese\"}, {\"raw_text\": \"3/4 cup shredded Mexican cheese blend\", \"ingredient\": \"shredded Mexican cheese blend\", \"amount\": 6.0, \"recipe_name\": \"Green Mac and Cheese\"}, {\"raw_text\": \"1 pinch salt and ground white pepper to taste\", \"ingredient\": \"pinch salt and ground white pepper to taste\", \"amount\": 1.0, \"recipe_name\": \"Green Mac and Cheese\"}, {\"raw_text\": \"1 cup elbow macaroni\", \"ingredient\": \"elbow macaroni\", \"amount\": 8.0, \"recipe_name\": \"Green Mac and Cheese\"}, {\"raw_text\": \"1/2 sleeve buttery round crackers , crushed\", \"ingredient\": \"sleeve buttery round crackers , crushed\", \"amount\": 0.5, \"recipe_name\": \"Green Mac and Cheese\"}, {\"raw_text\": \"1 tablespoon butter\", \"ingredient\": \"butter\", \"amount\": 0.5, \"recipe_name\": \"Creamy Poblano Mac & Cheese\"}, {\"raw_text\": \"1 medium onion, chopped\", \"ingredient\": \"medium onion, chopped\", \"amount\": 1.0, \"recipe_name\": \"Creamy Poblano Mac & Cheese\"}, {\"raw_text\": \"1/2 cup red bell pepper, chopped\", \"ingredient\": \"red bell pepper, chopped\", \"amount\": 4.0, \"recipe_name\": \"Creamy Poblano Mac & Cheese\"}, {\"raw_text\": \"1 cup medium tomato, chopped\", \"ingredient\": \"medium tomato, chopped\", \"amount\": 8.0, \"recipe_name\": \"Creamy Poblano Mac & Cheese\"}, {\"raw_text\": \"1 clove garlic, chopped\", \"ingredient\": \"clove garlic, chopped\", \"amount\": 1.0, \"recipe_name\": \"Creamy Poblano Mac & Cheese\"}, {\"raw_text\": \"1/8 teaspoon salt\", \"ingredient\": \"salt\", \"amount\": 0.02125, \"recipe_name\": \"Creamy Poblano Mac & Cheese\"}, {\"raw_text\": \"1/8 teaspoon ground black pepper\", \"ingredient\": \"ground black pepper\", \"amount\": 0.02125, \"recipe_name\": \"Creamy Poblano Mac & Cheese\"}, {\"raw_text\": \"1  can Campbell's\\u00ae Condensed Creamy Poblano & Queso Soup\", \"ingredient\": \"can Campbell's\\u00ae Condensed Creamy Poblano & Queso Soup\", \"amount\": 1.0, \"recipe_name\": \"Creamy Poblano Mac & Cheese\"}, {\"raw_text\": \"3/4 cup milk\", \"ingredient\": \"milk\", \"amount\": 6.0, \"recipe_name\": \"Creamy Poblano Mac & Cheese\"}, {\"raw_text\": \"1 cup shredded Cheddar cheese\", \"ingredient\": \"shredded Cheddar cheese\", \"amount\": 8.0, \"recipe_name\": \"Creamy Poblano Mac & Cheese\"}, {\"raw_text\": \"8 ounces elbow macaroni, cooked and drained\", \"ingredient\": \"elbow macaroni, cooked and drained\", \"amount\": 8.0, \"recipe_name\": \"Creamy Poblano Mac & Cheese\"}, {\"raw_text\": \"2 tablespoons chopped cilantro\", \"ingredient\": \"chopped cilantro\", \"amount\": 1.0, \"recipe_name\": \"Creamy Poblano Mac & Cheese\"}, {\"raw_text\": \"2 tablespoons butter\", \"ingredient\": \"butter\", \"amount\": 1.0, \"recipe_name\": \"Mom's Favorite Baked Mac and Cheese\"}, {\"raw_text\": \"1/4 cup finely chopped onion\", \"ingredient\": \"finely chopped onion\", \"amount\": 2.0, \"recipe_name\": \"Mom's Favorite Baked Mac and Cheese\"}, {\"raw_text\": \"2 tablespoons all-purpose flour\", \"ingredient\": \"all-purpose flour\", \"amount\": 1.0, \"recipe_name\": \"Mom's Favorite Baked Mac and Cheese\"}, {\"raw_text\": \"2 cups milk\", \"ingredient\": \"milk\", \"amount\": 16.0, \"recipe_name\": \"Mom's Favorite Baked Mac and Cheese\"}, {\"raw_text\": \"3/4 teaspoon salt\", \"ingredient\": \"salt\", \"amount\": 0.1275, \"recipe_name\": \"Mom's Favorite Baked Mac and Cheese\"}, {\"raw_text\": \"1/2 teaspoon dry mustard\", \"ingredient\": \"dry mustard\", \"amount\": 0.085, \"recipe_name\": \"Mom's Favorite Baked Mac and Cheese\"}, {\"raw_text\": \"1/4 teaspoon ground black pepper\", \"ingredient\": \"ground black pepper\", \"amount\": 0.0425, \"recipe_name\": \"Mom's Favorite Baked Mac and Cheese\"}, {\"raw_text\": \"1  package elbow macaroni\", \"ingredient\": \"package elbow macaroni\", \"amount\": 1.0, \"recipe_name\": \"Mom's Favorite Baked Mac and Cheese\"}, {\"raw_text\": \"2 cups shredded sharp Cheddar cheese\", \"ingredient\": \"shredded sharp Cheddar cheese\", \"amount\": 16.0, \"recipe_name\": \"Mom's Favorite Baked Mac and Cheese\"}, {\"raw_text\": \"1  package processed American cheese, cut into strips\", \"ingredient\": \"package processed American cheese, cut into strips\", \"amount\": 1.0, \"recipe_name\": \"Mom's Favorite Baked Mac and Cheese\"}, {\"raw_text\": \"3 slices rye bread, torn\", \"ingredient\": \"slices rye bread, torn\", \"amount\": 3.0, \"recipe_name\": \"Reuben Mac and Cheese\"}, {\"raw_text\": \"1/3 cup panko bread crumbs\", \"ingredient\": \"panko bread crumbs\", \"amount\": 2.6666666666666665, \"recipe_name\": \"Reuben Mac and Cheese\"}, {\"raw_text\": \"1  package egg noodles\", \"ingredient\": \"package egg noodles\", \"amount\": 1.0, \"recipe_name\": \"Reuben Mac and Cheese\"}, {\"raw_text\": \"3 tablespoons butter\", \"ingredient\": \"butter\", \"amount\": 1.5, \"recipe_name\": \"Reuben Mac and Cheese\"}, {\"raw_text\": \"1 cup chopped onion\", \"ingredient\": \"chopped onion\", \"amount\": 8.0, \"recipe_name\": \"Reuben Mac and Cheese\"}, {\"raw_text\": \"1 teaspoon salt\", \"ingredient\": \"salt\", \"amount\": 0.17, \"recipe_name\": \"Reuben Mac and Cheese\"}, {\"raw_text\": \"1/2 teaspoon ground black pepper\", \"ingredient\": \"ground black pepper\", \"amount\": 0.085, \"recipe_name\": \"Reuben Mac and Cheese\"}, {\"raw_text\": \"1/4 cup spicy brown mustard\", \"ingredient\": \"spicy brown mustard\", \"amount\": 2.0, \"recipe_name\": \"Reuben Mac and Cheese\"}, {\"raw_text\": \"3 tablespoons all-purpose flour\", \"ingredient\": \"all-purpose flour\", \"amount\": 1.5, \"recipe_name\": \"Reuben Mac and Cheese\"}, {\"raw_text\": \"3 cups hot milk\", \"ingredient\": \"hot milk\", \"amount\": 24.0, \"recipe_name\": \"Reuben Mac and Cheese\"}, {\"raw_text\": \"3 cups shredded Swiss cheese, or more to taste - divided\", \"ingredient\": \"shredded Swiss cheese, or more to taste - divided\", \"amount\": 24.0, \"recipe_name\": \"Reuben Mac and Cheese\"}, {\"raw_text\": \"1 1/2 cups sauerkraut, drained \", \"ingredient\": \"1/2 cups sauerkraut, drained\", \"amount\": 1.0, \"recipe_name\": \"Reuben Mac and Cheese\"}, {\"raw_text\": \"1/2 pound deli sliced corn beef, or more to taste\", \"ingredient\": \"deli sliced corn beef, or more to taste\", \"amount\": 8.0, \"recipe_name\": \"Reuben Mac and Cheese\"}, {\"raw_text\": \"3 tablespoons butter, melted\", \"ingredient\": \"butter, melted\", \"amount\": 1.5, \"recipe_name\": \"Reuben Mac and Cheese\"}, {\"raw_text\": \"2 cups uncooked elbow macaroni\", \"ingredient\": \"uncooked elbow macaroni\", \"amount\": 16.0, \"recipe_name\": \"Old Fashioned Mac and Cheese\"}, {\"raw_text\": \"4 tablespoons butter\", \"ingredient\": \"butter\", \"amount\": 2.0, \"recipe_name\": \"Old Fashioned Mac and Cheese\"}, {\"raw_text\": \"2 tablespoons all-purpose flour\", \"ingredient\": \"all-purpose flour\", \"amount\": 1.0, \"recipe_name\": \"Old Fashioned Mac and Cheese\"}, {\"raw_text\": \"2 cups milk\", \"ingredient\": \"milk\", \"amount\": 16.0, \"recipe_name\": \"Old Fashioned Mac and Cheese\"}, {\"raw_text\": \"1/4 onion, minced\", \"ingredient\": \"onion, minced\", \"amount\": 0.25, \"recipe_name\": \"Old Fashioned Mac and Cheese\"}, {\"raw_text\": \"salt and pepper to taste\", \"ingredient\": \"salt and pepper to taste\", \"amount\": 0.0, \"recipe_name\": \"Old Fashioned Mac and Cheese\"}, {\"raw_text\": \"1/4 pound processed cheese food\", \"ingredient\": \"processed cheese food\", \"amount\": 4.0, \"recipe_name\": \"Old Fashioned Mac and Cheese\"}, {\"raw_text\": \"1/4 pound shredded Cheddar cheese\", \"ingredient\": \"shredded Cheddar cheese\", \"amount\": 4.0, \"recipe_name\": \"Old Fashioned Mac and Cheese\"}, {\"raw_text\": \"1/4 pound shredded Swiss cheese\", \"ingredient\": \"shredded Swiss cheese\", \"amount\": 4.0, \"recipe_name\": \"Old Fashioned Mac and Cheese\"}, {\"raw_text\": \"1  package elbow macaroni\", \"ingredient\": \"package elbow macaroni\", \"amount\": 1.0, \"recipe_name\": \"Buffalo Chicken Mac and Cheese\"}, {\"raw_text\": \"1 rotisserie-roasted chicken\", \"ingredient\": \"rotisserie-roasted chicken\", \"amount\": 1.0, \"recipe_name\": \"Buffalo Chicken Mac and Cheese\"}, {\"raw_text\": \"6 tablespoons butter\", \"ingredient\": \"butter\", \"amount\": 3.0, \"recipe_name\": \"Buffalo Chicken Mac and Cheese\"}, {\"raw_text\": \"6 tablespoons all-purpose flour\", \"ingredient\": \"all-purpose flour\", \"amount\": 3.0, \"recipe_name\": \"Buffalo Chicken Mac and Cheese\"}, {\"raw_text\": \"3 cups milk\", \"ingredient\": \"milk\", \"amount\": 24.0, \"recipe_name\": \"Buffalo Chicken Mac and Cheese\"}, {\"raw_text\": \"1 pinch ground black pepper\", \"ingredient\": \"pinch ground black pepper\", \"amount\": 1.0, \"recipe_name\": \"Buffalo Chicken Mac and Cheese\"}, {\"raw_text\": \"2 cups shredded Cheddar cheese\", \"ingredient\": \"shredded Cheddar cheese\", \"amount\": 16.0, \"recipe_name\": \"Buffalo Chicken Mac and Cheese\"}, {\"raw_text\": \"2 cups shredded Monterey Jack cheese\", \"ingredient\": \"shredded Monterey Jack cheese\", \"amount\": 16.0, \"recipe_name\": \"Buffalo Chicken Mac and Cheese\"}, {\"raw_text\": \"1/2 cup hot sauce , or more to taste\", \"ingredient\": \"hot sauce , or more to taste\", \"amount\": 4.0, \"recipe_name\": \"Buffalo Chicken Mac and Cheese\"}, {\"raw_text\": \"1/2 cup crumbled gorgonzola cheese\", \"ingredient\": \"crumbled gorgonzola cheese\", \"amount\": 4.0, \"recipe_name\": \"Buffalo Chicken Mac and Cheese\"}, {\"raw_text\": \"1  package elbow macaroni\", \"ingredient\": \"package elbow macaroni\", \"amount\": 1.0, \"recipe_name\": \"Smoky Chipotle Mac and Cheese\"}, {\"raw_text\": \"1  can condensed Cheddar cheese soup\", \"ingredient\": \"can condensed Cheddar cheese soup\", \"amount\": 1.0, \"recipe_name\": \"Smoky Chipotle Mac and Cheese\"}, {\"raw_text\": \"1  can evaporated milk\", \"ingredient\": \"can evaporated milk\", \"amount\": 1.0, \"recipe_name\": \"Smoky Chipotle Mac and Cheese\"}, {\"raw_text\": \"1 pound shredded Colby cheese\", \"ingredient\": \"shredded Colby cheese\", \"amount\": 16.0, \"recipe_name\": \"Smoky Chipotle Mac and Cheese\"}, {\"raw_text\": \"1 chipotle chile in adobo sauce, finely chopped\", \"ingredient\": \"chipotle chile in adobo sauce, finely chopped\", \"amount\": 1.0, \"recipe_name\": \"Smoky Chipotle Mac and Cheese\"}, {\"raw_text\": \"1/2 cup panko bread crumbs\", \"ingredient\": \"panko bread crumbs\", \"amount\": 4.0, \"recipe_name\": \"Smoky Chipotle Mac and Cheese\"}, {\"raw_text\": \"1 tablespoon olive oil\", \"ingredient\": \"olive oil\", \"amount\": 0.5, \"recipe_name\": \"Smoky Chipotle Mac and Cheese\"}, {\"raw_text\": \"5 slices bread, crusts removed and cubed\", \"ingredient\": \"slices bread, crusts removed and cubed\", \"amount\": 5.0, \"recipe_name\": \"Unhealthy Quinoa Mac and Cheese\"}, {\"raw_text\": \"1 tablespoon olive oil\", \"ingredient\": \"olive oil\", \"amount\": 0.5, \"recipe_name\": \"Unhealthy Quinoa Mac and Cheese\"}, {\"raw_text\": \"1 small onion, diced\", \"ingredient\": \"small onion, diced\", \"amount\": 1.0, \"recipe_name\": \"Unhealthy Quinoa Mac and Cheese\"}, {\"raw_text\": \"3 cloves garlic, diced\", \"ingredient\": \"cloves garlic, diced\", \"amount\": 3.0, \"recipe_name\": \"Unhealthy Quinoa Mac and Cheese\"}, {\"raw_text\": \"2 cups quinoa\", \"ingredient\": \"quinoa\", \"amount\": 16.0, \"recipe_name\": \"Unhealthy Quinoa Mac and Cheese\"}, {\"raw_text\": \"2 cups chicken stock\", \"ingredient\": \"chicken stock\", \"amount\": 16.0, \"recipe_name\": \"Unhealthy Quinoa Mac and Cheese\"}, {\"raw_text\": \"2 cups water\", \"ingredient\": \"water\", \"amount\": 16.0, \"recipe_name\": \"Unhealthy Quinoa Mac and Cheese\"}, {\"raw_text\": \"1/4 cup butter\", \"ingredient\": \"butter\", \"amount\": 2.0, \"recipe_name\": \"Unhealthy Quinoa Mac and Cheese\"}, {\"raw_text\": \"1/4 cup flour\", \"ingredient\": \"flour\", \"amount\": 2.0, \"recipe_name\": \"Unhealthy Quinoa Mac and Cheese\"}, {\"raw_text\": \"2 cups skim milk\", \"ingredient\": \"skim milk\", \"amount\": 16.0, \"recipe_name\": \"Unhealthy Quinoa Mac and Cheese\"}, {\"raw_text\": \"salt and ground black pepper to taste\", \"ingredient\": \"salt and ground black pepper to taste\", \"amount\": 0.0, \"recipe_name\": \"Unhealthy Quinoa Mac and Cheese\"}, {\"raw_text\": \"8 ounces sharp Cheddar cheese, shredded\", \"ingredient\": \"sharp Cheddar cheese, shredded\", \"amount\": 8.0, \"recipe_name\": \"Unhealthy Quinoa Mac and Cheese\"}, {\"raw_text\": \"4 ounces mozzarella cheese, shredded\", \"ingredient\": \"mozzarella cheese, shredded\", \"amount\": 4.0, \"recipe_name\": \"Unhealthy Quinoa Mac and Cheese\"}, {\"raw_text\": \"1 tablespoon butter\", \"ingredient\": \"butter\", \"amount\": 0.5, \"recipe_name\": \"Unhealthy Quinoa Mac and Cheese\"}, {\"raw_text\": \"1 large tomato, cored and sliced\", \"ingredient\": \"large tomato, cored and sliced\", \"amount\": 1.0, \"recipe_name\": \"Unhealthy Quinoa Mac and Cheese\"}, {\"raw_text\": \"1/2  pasta\", \"ingredient\": \"pasta\", \"amount\": 0.5, \"recipe_name\": \"Mac and Cheese Henwood Style\"}, {\"raw_text\": \"1/4 cup margarine\", \"ingredient\": \"margarine\", \"amount\": 2.0, \"recipe_name\": \"Mac and Cheese Henwood Style\"}, {\"raw_text\": \"1 tablespoon minced onion\", \"ingredient\": \"minced onion\", \"amount\": 0.5, \"recipe_name\": \"Mac and Cheese Henwood Style\"}, {\"raw_text\": \"1/4 cup all-purpose flour\", \"ingredient\": \"all-purpose flour\", \"amount\": 2.0, \"recipe_name\": \"Mac and Cheese Henwood Style\"}, {\"raw_text\": \"2 cups milk\", \"ingredient\": \"milk\", \"amount\": 16.0, \"recipe_name\": \"Mac and Cheese Henwood Style\"}, {\"raw_text\": \"4 ounces processed cheese food\", \"ingredient\": \"processed cheese food\", \"amount\": 4.0, \"recipe_name\": \"Mac and Cheese Henwood Style\"}, {\"raw_text\": \"1/4 cup blue cheese crumbles\", \"ingredient\": \"blue cheese crumbles\", \"amount\": 2.0, \"recipe_name\": \"Mac and Cheese Henwood Style\"}, {\"raw_text\": \"1/4 cup cubed Cheddar cheese\", \"ingredient\": \"cubed Cheddar cheese\", \"amount\": 2.0, \"recipe_name\": \"Mac and Cheese Henwood Style\"}, {\"raw_text\": \"1 teaspoon salt\", \"ingredient\": \"salt\", \"amount\": 0.17, \"recipe_name\": \"Mac and Cheese Henwood Style\"}, {\"raw_text\": \"1 pinch ground black pepper\", \"ingredient\": \"pinch ground black pepper\", \"amount\": 1.0, \"recipe_name\": \"Mac and Cheese Henwood Style\"}, {\"raw_text\": \"1/4 teaspoon dry mustard\", \"ingredient\": \"dry mustard\", \"amount\": 0.0425, \"recipe_name\": \"Mac and Cheese Henwood Style\"}, {\"raw_text\": \"3 cups gemelli pasta, uncooked\", \"ingredient\": \"gemelli pasta, uncooked\", \"amount\": 24.0, \"recipe_name\": \"Ranch Mac 'n Cheese\"}, {\"raw_text\": \"1  can evaporated milk\", \"ingredient\": \"can evaporated milk\", \"amount\": 1.0, \"recipe_name\": \"Ranch Mac 'n Cheese\"}, {\"raw_text\": \"1 cup Hidden Valley\\u00ae Original Ranch\\u00ae Salad Dressing\", \"ingredient\": \"Hidden Valley\\u00ae Original Ranch\\u00ae Salad Dressing\", \"amount\": 8.0, \"recipe_name\": \"Ranch Mac 'n Cheese\"}, {\"raw_text\": \"2 eggs, slightly beaten\", \"ingredient\": \"eggs, slightly beaten\", \"amount\": 2.0, \"recipe_name\": \"Ranch Mac 'n Cheese\"}, {\"raw_text\": \"3 cups grated Asiago cheese\", \"ingredient\": \"grated Asiago cheese\", \"amount\": 24.0, \"recipe_name\": \"Ranch Mac 'n Cheese\"}, {\"raw_text\": \"1/2 cup unseasoned bread crumbs\", \"ingredient\": \"unseasoned bread crumbs\", \"amount\": 4.0, \"recipe_name\": \"Ranch Mac 'n Cheese\"}, {\"raw_text\": \"2 tablespoons unsalted butter\", \"ingredient\": \"unsalted butter\", \"amount\": 1.0, \"recipe_name\": \"Ranch Mac 'n Cheese\"}, {\"raw_text\": \"2 large Anaheim chile peppers, stems removed\", \"ingredient\": \"large Anaheim chile peppers, stems removed\", \"amount\": 2.0, \"recipe_name\": \"Green Mac and Cheese\"}, {\"raw_text\": \"2 tablespoons extra-virgin olive oil \", \"ingredient\": \"extra-virgin olive oil\", \"amount\": 1.0, \"recipe_name\": \"Green Mac and Cheese\"}, {\"raw_text\": \"1 cup heavy whipping cream\", \"ingredient\": \"heavy whipping cream\", \"amount\": 8.0, \"recipe_name\": \"Green Mac and Cheese\"}, {\"raw_text\": \"1/4 cup butter\", \"ingredient\": \"butter\", \"amount\": 2.0, \"recipe_name\": \"Green Mac and Cheese\"}, {\"raw_text\": \"1  package shredded pepper Jack cheese\", \"ingredient\": \"package shredded pepper Jack cheese\", \"amount\": 1.0, \"recipe_name\": \"Green Mac and Cheese\"}, {\"raw_text\": \"1  package grated Parmesan cheese\", \"ingredient\": \"package grated Parmesan cheese\", \"amount\": 1.0, \"recipe_name\": \"Green Mac and Cheese\"}, {\"raw_text\": \"3/4 cup shredded mozzarella cheese\", \"ingredient\": \"shredded mozzarella cheese\", \"amount\": 6.0, \"recipe_name\": \"Green Mac and Cheese\"}, {\"raw_text\": \"3/4 cup shredded Mexican cheese blend\", \"ingredient\": \"shredded Mexican cheese blend\", \"amount\": 6.0, \"recipe_name\": \"Green Mac and Cheese\"}, {\"raw_text\": \"1 pinch salt and ground white pepper to taste\", \"ingredient\": \"pinch salt and ground white pepper to taste\", \"amount\": 1.0, \"recipe_name\": \"Green Mac and Cheese\"}, {\"raw_text\": \"1 cup elbow macaroni\", \"ingredient\": \"elbow macaroni\", \"amount\": 8.0, \"recipe_name\": \"Green Mac and Cheese\"}, {\"raw_text\": \"1/2 sleeve buttery round crackers , crushed\", \"ingredient\": \"sleeve buttery round crackers , crushed\", \"amount\": 0.5, \"recipe_name\": \"Green Mac and Cheese\"}, {\"raw_text\": \"1 tablespoon butter\", \"ingredient\": \"butter\", \"amount\": 0.5, \"recipe_name\": \"Creamy Poblano Mac & Cheese\"}, {\"raw_text\": \"1 medium onion, chopped\", \"ingredient\": \"medium onion, chopped\", \"amount\": 1.0, \"recipe_name\": \"Creamy Poblano Mac & Cheese\"}, {\"raw_text\": \"1/2 cup red bell pepper, chopped\", \"ingredient\": \"red bell pepper, chopped\", \"amount\": 4.0, \"recipe_name\": \"Creamy Poblano Mac & Cheese\"}, {\"raw_text\": \"1 cup medium tomato, chopped\", \"ingredient\": \"medium tomato, chopped\", \"amount\": 8.0, \"recipe_name\": \"Creamy Poblano Mac & Cheese\"}, {\"raw_text\": \"1 clove garlic, chopped\", \"ingredient\": \"clove garlic, chopped\", \"amount\": 1.0, \"recipe_name\": \"Creamy Poblano Mac & Cheese\"}, {\"raw_text\": \"1/8 teaspoon salt\", \"ingredient\": \"salt\", \"amount\": 0.02125, \"recipe_name\": \"Creamy Poblano Mac & Cheese\"}, {\"raw_text\": \"1/8 teaspoon ground black pepper\", \"ingredient\": \"ground black pepper\", \"amount\": 0.02125, \"recipe_name\": \"Creamy Poblano Mac & Cheese\"}, {\"raw_text\": \"1  can Campbell's\\u00ae Condensed Creamy Poblano & Queso Soup\", \"ingredient\": \"can Campbell's\\u00ae Condensed Creamy Poblano & Queso Soup\", \"amount\": 1.0, \"recipe_name\": \"Creamy Poblano Mac & Cheese\"}, {\"raw_text\": \"3/4 cup milk\", \"ingredient\": \"milk\", \"amount\": 6.0, \"recipe_name\": \"Creamy Poblano Mac & Cheese\"}, {\"raw_text\": \"1 cup shredded Cheddar cheese\", \"ingredient\": \"shredded Cheddar cheese\", \"amount\": 8.0, \"recipe_name\": \"Creamy Poblano Mac & Cheese\"}, {\"raw_text\": \"8 ounces elbow macaroni, cooked and drained\", \"ingredient\": \"elbow macaroni, cooked and drained\", \"amount\": 8.0, \"recipe_name\": \"Creamy Poblano Mac & Cheese\"}, {\"raw_text\": \"2 tablespoons chopped cilantro\", \"ingredient\": \"chopped cilantro\", \"amount\": 1.0, \"recipe_name\": \"Creamy Poblano Mac & Cheese\"}, {\"raw_text\": \"2 tablespoons butter\", \"ingredient\": \"butter\", \"amount\": 1.0, \"recipe_name\": \"Mom's Favorite Baked Mac and Cheese\"}, {\"raw_text\": \"1/4 cup finely chopped onion\", \"ingredient\": \"finely chopped onion\", \"amount\": 2.0, \"recipe_name\": \"Mom's Favorite Baked Mac and Cheese\"}, {\"raw_text\": \"2 tablespoons all-purpose flour\", \"ingredient\": \"all-purpose flour\", \"amount\": 1.0, \"recipe_name\": \"Mom's Favorite Baked Mac and Cheese\"}, {\"raw_text\": \"2 cups milk\", \"ingredient\": \"milk\", \"amount\": 16.0, \"recipe_name\": \"Mom's Favorite Baked Mac and Cheese\"}, {\"raw_text\": \"3/4 teaspoon salt\", \"ingredient\": \"salt\", \"amount\": 0.1275, \"recipe_name\": \"Mom's Favorite Baked Mac and Cheese\"}, {\"raw_text\": \"1/2 teaspoon dry mustard\", \"ingredient\": \"dry mustard\", \"amount\": 0.085, \"recipe_name\": \"Mom's Favorite Baked Mac and Cheese\"}, {\"raw_text\": \"1/4 teaspoon ground black pepper\", \"ingredient\": \"ground black pepper\", \"amount\": 0.0425, \"recipe_name\": \"Mom's Favorite Baked Mac and Cheese\"}, {\"raw_text\": \"1  package elbow macaroni\", \"ingredient\": \"package elbow macaroni\", \"amount\": 1.0, \"recipe_name\": \"Mom's Favorite Baked Mac and Cheese\"}, {\"raw_text\": \"2 cups shredded sharp Cheddar cheese\", \"ingredient\": \"shredded sharp Cheddar cheese\", \"amount\": 16.0, \"recipe_name\": \"Mom's Favorite Baked Mac and Cheese\"}, {\"raw_text\": \"1  package processed American cheese, cut into strips\", \"ingredient\": \"package processed American cheese, cut into strips\", \"amount\": 1.0, \"recipe_name\": \"Mom's Favorite Baked Mac and Cheese\"}, {\"raw_text\": \"3 slices rye bread, torn\", \"ingredient\": \"slices rye bread, torn\", \"amount\": 3.0, \"recipe_name\": \"Reuben Mac and Cheese\"}, {\"raw_text\": \"1/3 cup panko bread crumbs\", \"ingredient\": \"panko bread crumbs\", \"amount\": 2.6666666666666665, \"recipe_name\": \"Reuben Mac and Cheese\"}, {\"raw_text\": \"1  package egg noodles\", \"ingredient\": \"package egg noodles\", \"amount\": 1.0, \"recipe_name\": \"Reuben Mac and Cheese\"}, {\"raw_text\": \"3 tablespoons butter\", \"ingredient\": \"butter\", \"amount\": 1.5, \"recipe_name\": \"Reuben Mac and Cheese\"}, {\"raw_text\": \"1 cup chopped onion\", \"ingredient\": \"chopped onion\", \"amount\": 8.0, \"recipe_name\": \"Reuben Mac and Cheese\"}, {\"raw_text\": \"1 teaspoon salt\", \"ingredient\": \"salt\", \"amount\": 0.17, \"recipe_name\": \"Reuben Mac and Cheese\"}, {\"raw_text\": \"1/2 teaspoon ground black pepper\", \"ingredient\": \"ground black pepper\", \"amount\": 0.085, \"recipe_name\": \"Reuben Mac and Cheese\"}, {\"raw_text\": \"1/4 cup spicy brown mustard\", \"ingredient\": \"spicy brown mustard\", \"amount\": 2.0, \"recipe_name\": \"Reuben Mac and Cheese\"}, {\"raw_text\": \"3 tablespoons all-purpose flour\", \"ingredient\": \"all-purpose flour\", \"amount\": 1.5, \"recipe_name\": \"Reuben Mac and Cheese\"}, {\"raw_text\": \"3 cups hot milk\", \"ingredient\": \"hot milk\", \"amount\": 24.0, \"recipe_name\": \"Reuben Mac and Cheese\"}, {\"raw_text\": \"3 cups shredded Swiss cheese, or more to taste - divided\", \"ingredient\": \"shredded Swiss cheese, or more to taste - divided\", \"amount\": 24.0, \"recipe_name\": \"Reuben Mac and Cheese\"}, {\"raw_text\": \"1 1/2 cups sauerkraut, drained \", \"ingredient\": \"1/2 cups sauerkraut, drained\", \"amount\": 1.0, \"recipe_name\": \"Reuben Mac and Cheese\"}, {\"raw_text\": \"1/2 pound deli sliced corn beef, or more to taste\", \"ingredient\": \"deli sliced corn beef, or more to taste\", \"amount\": 8.0, \"recipe_name\": \"Reuben Mac and Cheese\"}, {\"raw_text\": \"3 tablespoons butter, melted\", \"ingredient\": \"butter, melted\", \"amount\": 1.5, \"recipe_name\": \"Reuben Mac and Cheese\"}, {\"raw_text\": \"2 cups uncooked elbow macaroni\", \"ingredient\": \"uncooked elbow macaroni\", \"amount\": 16.0, \"recipe_name\": \"Old Fashioned Mac and Cheese\"}, {\"raw_text\": \"4 tablespoons butter\", \"ingredient\": \"butter\", \"amount\": 2.0, \"recipe_name\": \"Old Fashioned Mac and Cheese\"}, {\"raw_text\": \"2 tablespoons all-purpose flour\", \"ingredient\": \"all-purpose flour\", \"amount\": 1.0, \"recipe_name\": \"Old Fashioned Mac and Cheese\"}, {\"raw_text\": \"2 cups milk\", \"ingredient\": \"milk\", \"amount\": 16.0, \"recipe_name\": \"Old Fashioned Mac and Cheese\"}, {\"raw_text\": \"1/4 onion, minced\", \"ingredient\": \"onion, minced\", \"amount\": 0.25, \"recipe_name\": \"Old Fashioned Mac and Cheese\"}, {\"raw_text\": \"salt and pepper to taste\", \"ingredient\": \"salt and pepper to taste\", \"amount\": 0.0, \"recipe_name\": \"Old Fashioned Mac and Cheese\"}, {\"raw_text\": \"1/4 pound processed cheese food\", \"ingredient\": \"processed cheese food\", \"amount\": 4.0, \"recipe_name\": \"Old Fashioned Mac and Cheese\"}, {\"raw_text\": \"1/4 pound shredded Cheddar cheese\", \"ingredient\": \"shredded Cheddar cheese\", \"amount\": 4.0, \"recipe_name\": \"Old Fashioned Mac and Cheese\"}, {\"raw_text\": \"1/4 pound shredded Swiss cheese\", \"ingredient\": \"shredded Swiss cheese\", \"amount\": 4.0, \"recipe_name\": \"Old Fashioned Mac and Cheese\"}, {\"raw_text\": \"1  package elbow macaroni\", \"ingredient\": \"package elbow macaroni\", \"amount\": 1.0, \"recipe_name\": \"Buffalo Chicken Mac and Cheese\"}, {\"raw_text\": \"1 rotisserie-roasted chicken\", \"ingredient\": \"rotisserie-roasted chicken\", \"amount\": 1.0, \"recipe_name\": \"Buffalo Chicken Mac and Cheese\"}, {\"raw_text\": \"6 tablespoons butter\", \"ingredient\": \"butter\", \"amount\": 3.0, \"recipe_name\": \"Buffalo Chicken Mac and Cheese\"}, {\"raw_text\": \"6 tablespoons all-purpose flour\", \"ingredient\": \"all-purpose flour\", \"amount\": 3.0, \"recipe_name\": \"Buffalo Chicken Mac and Cheese\"}, {\"raw_text\": \"3 cups milk\", \"ingredient\": \"milk\", \"amount\": 24.0, \"recipe_name\": \"Buffalo Chicken Mac and Cheese\"}, {\"raw_text\": \"1 pinch ground black pepper\", \"ingredient\": \"pinch ground black pepper\", \"amount\": 1.0, \"recipe_name\": \"Buffalo Chicken Mac and Cheese\"}, {\"raw_text\": \"2 cups shredded Cheddar cheese\", \"ingredient\": \"shredded Cheddar cheese\", \"amount\": 16.0, \"recipe_name\": \"Buffalo Chicken Mac and Cheese\"}, {\"raw_text\": \"2 cups shredded Monterey Jack cheese\", \"ingredient\": \"shredded Monterey Jack cheese\", \"amount\": 16.0, \"recipe_name\": \"Buffalo Chicken Mac and Cheese\"}, {\"raw_text\": \"1/2 cup hot sauce , or more to taste\", \"ingredient\": \"hot sauce , or more to taste\", \"amount\": 4.0, \"recipe_name\": \"Buffalo Chicken Mac and Cheese\"}, {\"raw_text\": \"1/2 cup crumbled gorgonzola cheese\", \"ingredient\": \"crumbled gorgonzola cheese\", \"amount\": 4.0, \"recipe_name\": \"Buffalo Chicken Mac and Cheese\"}, {\"raw_text\": \"1  package elbow macaroni\", \"ingredient\": \"package elbow macaroni\", \"amount\": 1.0, \"recipe_name\": \"Smoky Chipotle Mac and Cheese\"}, {\"raw_text\": \"1  can condensed Cheddar cheese soup\", \"ingredient\": \"can condensed Cheddar cheese soup\", \"amount\": 1.0, \"recipe_name\": \"Smoky Chipotle Mac and Cheese\"}, {\"raw_text\": \"1  can evaporated milk\", \"ingredient\": \"can evaporated milk\", \"amount\": 1.0, \"recipe_name\": \"Smoky Chipotle Mac and Cheese\"}, {\"raw_text\": \"1 pound shredded Colby cheese\", \"ingredient\": \"shredded Colby cheese\", \"amount\": 16.0, \"recipe_name\": \"Smoky Chipotle Mac and Cheese\"}, {\"raw_text\": \"1 chipotle chile in adobo sauce, finely chopped\", \"ingredient\": \"chipotle chile in adobo sauce, finely chopped\", \"amount\": 1.0, \"recipe_name\": \"Smoky Chipotle Mac and Cheese\"}, {\"raw_text\": \"1/2 cup panko bread crumbs\", \"ingredient\": \"panko bread crumbs\", \"amount\": 4.0, \"recipe_name\": \"Smoky Chipotle Mac and Cheese\"}, {\"raw_text\": \"1 tablespoon olive oil\", \"ingredient\": \"olive oil\", \"amount\": 0.5, \"recipe_name\": \"Smoky Chipotle Mac and Cheese\"}, {\"raw_text\": \"5 slices bread, crusts removed and cubed\", \"ingredient\": \"slices bread, crusts removed and cubed\", \"amount\": 5.0, \"recipe_name\": \"Unhealthy Quinoa Mac and Cheese\"}, {\"raw_text\": \"1 tablespoon olive oil\", \"ingredient\": \"olive oil\", \"amount\": 0.5, \"recipe_name\": \"Unhealthy Quinoa Mac and Cheese\"}, {\"raw_text\": \"1 small onion, diced\", \"ingredient\": \"small onion, diced\", \"amount\": 1.0, \"recipe_name\": \"Unhealthy Quinoa Mac and Cheese\"}, {\"raw_text\": \"3 cloves garlic, diced\", \"ingredient\": \"cloves garlic, diced\", \"amount\": 3.0, \"recipe_name\": \"Unhealthy Quinoa Mac and Cheese\"}, {\"raw_text\": \"2 cups quinoa\", \"ingredient\": \"quinoa\", \"amount\": 16.0, \"recipe_name\": \"Unhealthy Quinoa Mac and Cheese\"}, {\"raw_text\": \"2 cups chicken stock\", \"ingredient\": \"chicken stock\", \"amount\": 16.0, \"recipe_name\": \"Unhealthy Quinoa Mac and Cheese\"}, {\"raw_text\": \"2 cups water\", \"ingredient\": \"water\", \"amount\": 16.0, \"recipe_name\": \"Unhealthy Quinoa Mac and Cheese\"}, {\"raw_text\": \"1/4 cup butter\", \"ingredient\": \"butter\", \"amount\": 2.0, \"recipe_name\": \"Unhealthy Quinoa Mac and Cheese\"}, {\"raw_text\": \"1/4 cup flour\", \"ingredient\": \"flour\", \"amount\": 2.0, \"recipe_name\": \"Unhealthy Quinoa Mac and Cheese\"}, {\"raw_text\": \"2 cups skim milk\", \"ingredient\": \"skim milk\", \"amount\": 16.0, \"recipe_name\": \"Unhealthy Quinoa Mac and Cheese\"}, {\"raw_text\": \"salt and ground black pepper to taste\", \"ingredient\": \"salt and ground black pepper to taste\", \"amount\": 0.0, \"recipe_name\": \"Unhealthy Quinoa Mac and Cheese\"}, {\"raw_text\": \"8 ounces sharp Cheddar cheese, shredded\", \"ingredient\": \"sharp Cheddar cheese, shredded\", \"amount\": 8.0, \"recipe_name\": \"Unhealthy Quinoa Mac and Cheese\"}, {\"raw_text\": \"4 ounces mozzarella cheese, shredded\", \"ingredient\": \"mozzarella cheese, shredded\", \"amount\": 4.0, \"recipe_name\": \"Unhealthy Quinoa Mac and Cheese\"}, {\"raw_text\": \"1 tablespoon butter\", \"ingredient\": \"butter\", \"amount\": 0.5, \"recipe_name\": \"Unhealthy Quinoa Mac and Cheese\"}, {\"raw_text\": \"1 large tomato, cored and sliced\", \"ingredient\": \"large tomato, cored and sliced\", \"amount\": 1.0, \"recipe_name\": \"Unhealthy Quinoa Mac and Cheese\"}, {\"raw_text\": \"1/2  pasta\", \"ingredient\": \"pasta\", \"amount\": 0.5, \"recipe_name\": \"Mac and Cheese Henwood Style\"}, {\"raw_text\": \"1/4 cup margarine\", \"ingredient\": \"margarine\", \"amount\": 2.0, \"recipe_name\": \"Mac and Cheese Henwood Style\"}, {\"raw_text\": \"1 tablespoon minced onion\", \"ingredient\": \"minced onion\", \"amount\": 0.5, \"recipe_name\": \"Mac and Cheese Henwood Style\"}, {\"raw_text\": \"1/4 cup all-purpose flour\", \"ingredient\": \"all-purpose flour\", \"amount\": 2.0, \"recipe_name\": \"Mac and Cheese Henwood Style\"}, {\"raw_text\": \"2 cups milk\", \"ingredient\": \"milk\", \"amount\": 16.0, \"recipe_name\": \"Mac and Cheese Henwood Style\"}, {\"raw_text\": \"4 ounces processed cheese food\", \"ingredient\": \"processed cheese food\", \"amount\": 4.0, \"recipe_name\": \"Mac and Cheese Henwood Style\"}, {\"raw_text\": \"1/4 cup blue cheese crumbles\", \"ingredient\": \"blue cheese crumbles\", \"amount\": 2.0, \"recipe_name\": \"Mac and Cheese Henwood Style\"}, {\"raw_text\": \"1/4 cup cubed Cheddar cheese\", \"ingredient\": \"cubed Cheddar cheese\", \"amount\": 2.0, \"recipe_name\": \"Mac and Cheese Henwood Style\"}, {\"raw_text\": \"1 teaspoon salt\", \"ingredient\": \"salt\", \"amount\": 0.17, \"recipe_name\": \"Mac and Cheese Henwood Style\"}, {\"raw_text\": \"1 pinch ground black pepper\", \"ingredient\": \"pinch ground black pepper\", \"amount\": 1.0, \"recipe_name\": \"Mac and Cheese Henwood Style\"}, {\"raw_text\": \"1/4 teaspoon dry mustard\", \"ingredient\": \"dry mustard\", \"amount\": 0.0425, \"recipe_name\": \"Mac and Cheese Henwood Style\"}]}, \"encoding\": {\"x\": {\"type\": \"quantitative\", \"field\": \"amount\"}, \"y\": {\"type\": \"nominal\", \"field\": \"ingredient\"}, \"color\": {\"type\": \"nominal\", \"field\": \"recipe_name\"}}, \"config\": {\"cell\": {\"width\": 500, \"height\": 350}}};\n",
       "var selector = \"#c9acc9d7-06a0-4c94-9bcb-741fa3bf32e2\";\n",
       "var type = \"vega-lite\";\n",
       "\n",
       "var output_area = this;\n",
       "require(['nbextensions/jupyter-vega/index'], function(vega) {\n",
       "  vega.render(selector, spec, type, output_area);\n",
       "}, function (err) {\n",
       "  if (err.requireType !== 'scripterror') {\n",
       "    throw(err);\n",
       "  }\n",
       "});\n"
      ]
     },
     "metadata": {
      "jupyter-vega": "#c9acc9d7-06a0-4c94-9bcb-741fa3bf32e2"
     },
     "output_type": "display_data"
    },
    {
     "data": {
      "image/png": "[encoded data removed]"
     },
     "metadata": {
      "jupyter-vega": "#c9acc9d7-06a0-4c94-9bcb-741fa3bf32e2"
     },
     "output_type": "display_data"
    }
   ],
   "source": [
    "Chart(df).mark_bar().encode(\n",
    "    color='recipe_name',\n",
    "    x='amount',\n",
    "    y='ingredient'\n",
    ")"
   ]
  },
  {
   "cell_type": "markdown",
   "metadata": {},
   "source": [
    "Looking at this chart of the amount of various ingredients, I'm rather astounded at how little overlap between recipes there is. I would have expected there to be quite a bit of overlap between recipes, especially since mac and cheese is one of those things that has a basic set of ingredients that should be required in everything; at the very least, flour and fat to make a roux, and pasta.\n",
    "\n",
    "I think this surprising distribution is probably a function of how ingredients were named in the recipes themselves. Lots of very similar ingredients that could be lumped together, e.g. butter and melted butter, various types of past, and various types of milk, are all considered distinct. The addition of further filtering, most likely with regular expression could furthe improve what information is offered.\n",
    "\n",
    "Alternately, one could look at this graphic as evidence of the many possible permutations of even a fairly simple recipe."
   ]
  }
 ],
 "metadata": {
  "kernelspec": {
   "display_name": "Python 3",
   "language": "python",
   "name": "python3"
  },
  "language_info": {
   "codemirror_mode": {
    "name": "ipython",
    "version": 3
   },
   "file_extension": ".py",
   "mimetype": "text/x-python",
   "name": "python",
   "nbconvert_exporter": "python",
   "pygments_lexer": "ipython3",
   "version": "3.5.1"
  }
 },
 "nbformat": 4,
 "nbformat_minor": 1
}
